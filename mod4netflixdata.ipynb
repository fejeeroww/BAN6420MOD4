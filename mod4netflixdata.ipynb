{
 "cells": [
  {
   "cell_type": "code",
   "execution_count": 14,
   "id": "251b881f-3aba-4a7e-8419-c87f134373bf",
   "metadata": {},
   "outputs": [],
   "source": [
    "# Import necessary libraries\n",
    "import pandas as pd\n",
    "import numpy as np\n",
    "import matplotlib.pyplot as plt\n",
    "import seaborn as sns\n",
    "import zipfile\n",
    "import os"
   ]
  },
  {
   "cell_type": "markdown",
   "id": "b40507f4-eab2-488a-93f8-03c0df5f15d9",
   "metadata": {},
   "source": [
    "### 1. Data Preparation"
   ]
  },
  {
   "cell_type": "code",
   "execution_count": 24,
   "id": "36038d1d-647a-45f4-9ec9-ffbbac9e137a",
   "metadata": {},
   "outputs": [],
   "source": [
    "# Unzip the dataset\n",
    "with zipfile.ZipFile(\"C:\\\\Users\\\\LADY FEJ\\\\Module 4 assignment\\\\netflix_data.zip\", 'r') as zip_ref:\n",
    "    zip_ref.extractall(\"C:\\\\Users\\\\LADY FEJ\\\\Module 4 assignment\")\n"
   ]
  },
  {
   "cell_type": "code",
   "execution_count": 34,
   "id": "98f4878c-8923-48dd-87d1-d5a09fdeeadd",
   "metadata": {},
   "outputs": [],
   "source": [
    "# Rename the extracted CSV file\n",
    "old_name = \"C:\\\\Users\\\\LADY FEJ\\\\Module 4 assignment\\\\netflix_data.csv\"\n",
    "new_name = \"C:\\\\Users\\\\LADY FEJ\\\\Module 4 assignment\\\\Netflix_shows_movies.csv\"\n",
    "os.rename(old_name, new_name)"
   ]
  },
  {
   "cell_type": "code",
   "execution_count": 38,
   "id": "226d6950-3cd5-42b9-b9cb-2a08acf00529",
   "metadata": {},
   "outputs": [],
   "source": [
    "# Read the CSV file\n",
    "df = pd.read_csv(new_name)"
   ]
  },
  {
   "cell_type": "markdown",
   "id": "b4829a2e-c8f4-4fa2-a29f-11e9adf583fe",
   "metadata": {},
   "source": [
    "## 2. Address missing values in the dataset through data cleaning. "
   ]
  },
  {
   "cell_type": "code",
   "execution_count": 43,
   "id": "de4de47a-10da-4362-9751-dc5d39074255",
   "metadata": {},
   "outputs": [],
   "source": [
    "# Data cleaning: Address missing values\n",
    "columns_to_fill = ['director', 'cast', 'country', 'date_added', 'rating']\n",
    "for col in columns_to_fill:\n",
    "    df[col] = df[col].fillna('Unknown')"
   ]
  },
  {
   "cell_type": "code",
   "execution_count": 47,
   "id": "ab0f6257-03fe-4179-8bff-fe5e2f6f66ab",
   "metadata": {},
   "outputs": [],
   "source": [
    "# missing values for 'duration' column separately\n",
    "def clean_duration(duration):\n",
    "    if pd.isna(duration):\n",
    "        return 'Unknown'\n",
    "    elif 'Season' in duration:\n",
    "        return duration\n",
    "    else:\n",
    "        return duration.split()[0] + ' min'  # Keep only the numeric part for minutes\n",
    "\n",
    "df['duration'] = df['duration'].apply(clean_duration)"
   ]
  },
  {
   "cell_type": "markdown",
   "id": "45192416-0764-4dc0-a1df-9e19cc1b8bd4",
   "metadata": {},
   "source": [
    "## 3. Conducting Data exploration"
   ]
  },
  {
   "cell_type": "code",
   "execution_count": 52,
   "id": "473d37a3-5889-418f-9128-815670a1e946",
   "metadata": {},
   "outputs": [
    {
     "name": "stdout",
     "output_type": "stream",
     "text": [
      "<class 'pandas.core.frame.DataFrame'>\n",
      "RangeIndex: 6234 entries, 0 to 6233\n",
      "Data columns (total 12 columns):\n",
      " #   Column        Non-Null Count  Dtype \n",
      "---  ------        --------------  ----- \n",
      " 0   show_id       6234 non-null   int64 \n",
      " 1   type          6234 non-null   object\n",
      " 2   title         6234 non-null   object\n",
      " 3   director      6234 non-null   object\n",
      " 4   cast          6234 non-null   object\n",
      " 5   country       6234 non-null   object\n",
      " 6   date_added    6234 non-null   object\n",
      " 7   release_year  6234 non-null   int64 \n",
      " 8   rating        6234 non-null   object\n",
      " 9   duration      6234 non-null   object\n",
      " 10  listed_in     6234 non-null   object\n",
      " 11  description   6234 non-null   object\n",
      "dtypes: int64(2), object(10)\n",
      "memory usage: 584.6+ KB\n",
      "None\n",
      "            show_id  release_year\n",
      "count  6.234000e+03    6234.00000\n",
      "mean   7.670368e+07    2013.35932\n",
      "std    1.094296e+07       8.81162\n",
      "min    2.477470e+05    1925.00000\n",
      "25%    8.003580e+07    2013.00000\n",
      "50%    8.016337e+07    2016.00000\n",
      "75%    8.024489e+07    2018.00000\n",
      "max    8.123573e+07    2020.00000\n"
     ]
    }
   ],
   "source": [
    "# Data exploration\n",
    "print(df.info())\n",
    "print(df.describe())"
   ]
  },
  {
   "cell_type": "markdown",
   "id": "3a63b42d-c23d-4560-9d36-890f03c7d5fe",
   "metadata": {},
   "source": [
    "## 4. Visualizations to represent the most watched genres and the distribution of ratings using Python libraries (Seaborn, Pyplot, and Matplotlib)."
   ]
  },
  {
   "cell_type": "code",
   "execution_count": 56,
   "id": "89d56004-f3cd-4b09-9e45-ecef7d9948b6",
   "metadata": {},
   "outputs": [],
   "source": [
    "# Visualizations\n",
    "plt.figure(figsize=(12, 6))\n",
    "sns.countplot(x='type', data=df)\n",
    "plt.title('Distribution of Movies and TV Shows')\n",
    "plt.savefig('C:\\\\Users\\\\LADY FEJ\\\\Module 4 assignment\\\\type_distribution.png')\n",
    "plt.close()"
   ]
  },
  {
   "cell_type": "code",
   "execution_count": 58,
   "id": "2551b7bd-3007-47e5-9f7f-5b9f63e08f7b",
   "metadata": {},
   "outputs": [],
   "source": [
    "plt.figure(figsize=(12, 6))\n",
    "df['listed_in'].str.split(', ', expand=True).stack().value_counts().head(10).plot(kind='bar')\n",
    "plt.title('Top 10 Genres')\n",
    "plt.xlabel('Genre')\n",
    "plt.ylabel('Count')\n",
    "plt.xticks(rotation=45, ha='right')\n",
    "plt.tight_layout()\n",
    "plt.savefig('C:\\\\Users\\\\LADY FEJ\\\\Module 4 assignment\\\\top_genres.png')\n",
    "plt.close()"
   ]
  },
  {
   "cell_type": "code",
   "execution_count": 60,
   "id": "8e5f5888-672d-4f16-9344-c36d2987a509",
   "metadata": {},
   "outputs": [],
   "source": [
    "plt.figure(figsize=(12, 6))\n",
    "sns.countplot(x='rating', data=df, order=df['rating'].value_counts().index)\n",
    "plt.title('Distribution of Ratings')\n",
    "plt.xlabel('Rating')\n",
    "plt.ylabel('Count')\n",
    "plt.xticks(rotation=45, ha='right')\n",
    "plt.tight_layout()\n",
    "plt.savefig('C:\\\\Users\\\\LADY FEJ\\\\Module 4 assignment\\\\rating_distribution.png')\n",
    "plt.close()"
   ]
  },
  {
   "cell_type": "markdown",
   "id": "e749dedf-0aac-4c35-b693-1e6fbb8b58be",
   "metadata": {},
   "source": [
    "## 5. Integrate one of the charts or visualizations into R (top genre). "
   ]
  },
  {
   "cell_type": "code",
   "execution_count": null,
   "id": "e5c17826-29f7-438c-a671-23c2f2e76f68",
   "metadata": {},
   "outputs": [],
   "source": [
    "library(ggplot2)\n",
    "library(png)\n",
    "\n",
    "# Read the PNG file\n",
    "img <- readPNG(\"C:/Users/LADY FEJ/Module 4 assignment/top_genres.png\")\n",
    "\n",
    "# Create a new plot\n",
    "png(\"C:/Users/LADY FEJ/Module 4 assignment/top_genres_in_r.png\", width = 800, height = 600)\n",
    "\n",
    "# Plot the image\n",
    "plot.new()\n",
    "rasterImage(img, 0, 0, 1, 1)\n",
    "\n",
    "# Add a title\n",
    "title(\"Top 10 Genres (Integrated from Python)\")\n",
    "\n",
    "# Save and close the plot\n",
    "dev.off()\n",
    "\n",
    "print(\"Visualization has been integrated and saved as 'top_genres_in_r.png'\")"
   ]
  },
  {
   "cell_type": "markdown",
   "id": "7c58477a-a0f9-4fc0-bbb5-796fbd6138e7",
   "metadata": {},
   "source": [
    "## 6.Save the cleaned dataset as a CSV file.\")"
   ]
  },
  {
   "cell_type": "code",
   "execution_count": 66,
   "id": "de1f6181-bfd3-458e-8c70-d65c156c9b6e",
   "metadata": {},
   "outputs": [
    {
     "name": "stdout",
     "output_type": "stream",
     "text": [
      "Analysis complete. Visualizations and cleaned dataset have been saved.\n"
     ]
    }
   ],
   "source": [
    "df.to_csv('C:\\\\Users\\\\LADY FEJ\\\\Module 4 assignment\\\\Netflix_shows_movies_cleaned.csv', index=False)\n",
    "\n",
    "print(\"Analysis complete. Visualizations and cleaned dataset have been saved.\")"
   ]
  },
  {
   "cell_type": "code",
   "execution_count": null,
   "id": "0f223d0e-4067-4fa0-8130-c359f9b7279e",
   "metadata": {},
   "outputs": [],
   "source": []
  }
 ],
 "metadata": {
  "kernelspec": {
   "display_name": "Python 3 (ipykernel)",
   "language": "python",
   "name": "python3"
  },
  "language_info": {
   "codemirror_mode": {
    "name": "ipython",
    "version": 3
   },
   "file_extension": ".py",
   "mimetype": "text/x-python",
   "name": "python",
   "nbconvert_exporter": "python",
   "pygments_lexer": "ipython3",
   "version": "3.12.4"
  }
 },
 "nbformat": 4,
 "nbformat_minor": 5
}
